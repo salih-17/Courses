{
 "cells": [
  {
   "cell_type": "code",
   "execution_count": 1,
   "metadata": {},
   "outputs": [],
   "source": [
    "import numpy as np"
   ]
  },
  {
   "cell_type": "code",
   "execution_count": 37,
   "metadata": {},
   "outputs": [],
   "source": [
    "cm = np.array([85 ,80,25,87,78,82,57,30,73,40])\n",
    "pm = np.array([87,85,88,90,90,100,50,80,78,95])"
   ]
  },
  {
   "cell_type": "code",
   "execution_count": 54,
   "metadata": {},
   "outputs": [
    {
     "name": "stdout",
     "output_type": "stream",
     "text": [
      "Ttest_indResult(statistic=-2.368146371302001, pvalue=0.03243626268340931)\n"
     ]
    }
   ],
   "source": [
    "from scipy.stats import ttest_ind\n",
    "t = ttest_ind( cm ,pm, equal_var=False  , alternative='two-sided')\n",
    "print(t)"
   ]
  },
  {
   "cell_type": "code",
   "execution_count": 62,
   "metadata": {},
   "outputs": [
    {
     "name": "stdout",
     "output_type": "stream",
     "text": [
      "Ttest_indResult(statistic=-2.368146371302001, pvalue=0.016218131341704654)\n"
     ]
    }
   ],
   "source": []
  },
  {
   "cell_type": "code",
   "execution_count": 120,
   "metadata": {},
   "outputs": [
    {
     "data": {
      "text/plain": [
       "-2.10092204024096"
      ]
     },
     "execution_count": 120,
     "metadata": {},
     "output_type": "execute_result"
    }
   ],
   "source": [
    "# To find the T critical value\n",
    "# Import Library\n",
    "import scipy.stats\n",
    "# By default it is left taile test if you want to do right tail test then you need to substract from 1\n",
    "# To find the T critical value\n",
    "scipy.stats.t.ppf(q=0.025,df=18)"
   ]
  },
  {
   "cell_type": "code",
   "execution_count": 135,
   "metadata": {},
   "outputs": [],
   "source": [
    "# Cohen's d is an effect size used to indicate the standardised difference between two means.\n",
    "from statsmodels.stats.power import TTestIndPower\n",
    "from scipy.stats import ttest_ind\n",
    "\n",
    "\n",
    "# Define the significance level for acceptance\n",
    "alpha = 0.05\n",
    "\n",
    "\n",
    "def cohen_d(param_one, param_two):\n",
    "    std = np.sqrt((np.std(param_one)**2 + np.std(param_two)**2)/2)\n",
    "    mean = np.mean(param_two) - np.mean(param_one)\n",
    "    return np.abs(mean/std)\n",
    "\n",
    "# Power analysis\n",
    "def do_power(param_one, param_two, alpha, num_obs=10, ratio=1.0, alternative='larger'):\n",
    "    effect_size = cohen_d(param_one,param_two)\n",
    "    t = ttest_ind( param_one ,param_two, equal_var=False , alternative='less')\n",
    "    p = TTestIndPower().power(effect_size=effect_size, nobs1 = num_obs, alpha=alpha,\n",
    "                                  ratio=ratio, alternative=alternative)\n",
    "    c = scipy.stats.t.ppf(q=0.025,df=18)\n",
    "    \n",
    "    f =  TTestIndPower().solve_power( cohen_d(param_one,param_two), power = 0.8,nobs1= None, ratio = 1.0, alpha = alpha)\n",
    "\n",
    "    return t ,p , c , f"
   ]
  },
  {
   "cell_type": "code",
   "execution_count": 136,
   "metadata": {},
   "outputs": [
    {
     "data": {
      "text/plain": [
       "(Ttest_indResult(statistic=-2.368146371302001, pvalue=0.016218131341704654),\n",
       " 0.7751318494883819,\n",
       " -2.10092204024096,\n",
       " 13.626527148564323)"
      ]
     },
     "execution_count": 136,
     "metadata": {},
     "output_type": "execute_result"
    }
   ],
   "source": [
    "do_power(cm,pm,alpha)"
   ]
  }
 ],
 "metadata": {
  "kernelspec": {
   "display_name": "Python 3",
   "language": "python",
   "name": "python3"
  },
  "language_info": {
   "codemirror_mode": {
    "name": "ipython",
    "version": 3
   },
   "file_extension": ".py",
   "mimetype": "text/x-python",
   "name": "python",
   "nbconvert_exporter": "python",
   "pygments_lexer": "ipython3",
   "version": "3.10.11"
  },
  "orig_nbformat": 4
 },
 "nbformat": 4,
 "nbformat_minor": 2
}
